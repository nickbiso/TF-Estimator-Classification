{
 "cells": [
  {
   "cell_type": "markdown",
   "metadata": {
    "collapsed": true
   },
   "source": [
    "# California Census Data -  Tensorflow Estimator Classification"
   ]
  },
  {
   "cell_type": "markdown",
   "metadata": {},
   "source": [
    "We will be classifying whether an individual either makes <=50k or >50k"
   ]
  },
  {
   "cell_type": "code",
   "execution_count": 1,
   "metadata": {
    "collapsed": true
   },
   "outputs": [],
   "source": [
    "import numpy as np\n",
    "import pandas as pd\n",
    "import tensorflow as tf\n",
    "from sklearn.model_selection import train_test_split\n",
    "from sklearn.metrics import classification_report"
   ]
  },
  {
   "cell_type": "code",
   "execution_count": 2,
   "metadata": {
    "scrolled": true
   },
   "outputs": [],
   "source": [
    "census = pd.read_csv('census_data.csv')"
   ]
  },
  {
   "cell_type": "code",
   "execution_count": 3,
   "metadata": {},
   "outputs": [
    {
     "data": {
      "text/html": [
       "<div>\n",
       "<style>\n",
       "    .dataframe thead tr:only-child th {\n",
       "        text-align: right;\n",
       "    }\n",
       "\n",
       "    .dataframe thead th {\n",
       "        text-align: left;\n",
       "    }\n",
       "\n",
       "    .dataframe tbody tr th {\n",
       "        vertical-align: top;\n",
       "    }\n",
       "</style>\n",
       "<table border=\"1\" class=\"dataframe\">\n",
       "  <thead>\n",
       "    <tr style=\"text-align: right;\">\n",
       "      <th></th>\n",
       "      <th>age</th>\n",
       "      <th>workclass</th>\n",
       "      <th>education</th>\n",
       "      <th>education_num</th>\n",
       "      <th>marital_status</th>\n",
       "      <th>occupation</th>\n",
       "      <th>relationship</th>\n",
       "      <th>race</th>\n",
       "      <th>gender</th>\n",
       "      <th>capital_gain</th>\n",
       "      <th>capital_loss</th>\n",
       "      <th>hours_per_week</th>\n",
       "      <th>native_country</th>\n",
       "      <th>income_bracket</th>\n",
       "    </tr>\n",
       "  </thead>\n",
       "  <tbody>\n",
       "    <tr>\n",
       "      <th>0</th>\n",
       "      <td>39</td>\n",
       "      <td>State-gov</td>\n",
       "      <td>Bachelors</td>\n",
       "      <td>13</td>\n",
       "      <td>Never-married</td>\n",
       "      <td>Adm-clerical</td>\n",
       "      <td>Not-in-family</td>\n",
       "      <td>White</td>\n",
       "      <td>Male</td>\n",
       "      <td>2174</td>\n",
       "      <td>0</td>\n",
       "      <td>40</td>\n",
       "      <td>United-States</td>\n",
       "      <td>&lt;=50K</td>\n",
       "    </tr>\n",
       "    <tr>\n",
       "      <th>1</th>\n",
       "      <td>50</td>\n",
       "      <td>Self-emp-not-inc</td>\n",
       "      <td>Bachelors</td>\n",
       "      <td>13</td>\n",
       "      <td>Married-civ-spouse</td>\n",
       "      <td>Exec-managerial</td>\n",
       "      <td>Husband</td>\n",
       "      <td>White</td>\n",
       "      <td>Male</td>\n",
       "      <td>0</td>\n",
       "      <td>0</td>\n",
       "      <td>13</td>\n",
       "      <td>United-States</td>\n",
       "      <td>&lt;=50K</td>\n",
       "    </tr>\n",
       "    <tr>\n",
       "      <th>2</th>\n",
       "      <td>38</td>\n",
       "      <td>Private</td>\n",
       "      <td>HS-grad</td>\n",
       "      <td>9</td>\n",
       "      <td>Divorced</td>\n",
       "      <td>Handlers-cleaners</td>\n",
       "      <td>Not-in-family</td>\n",
       "      <td>White</td>\n",
       "      <td>Male</td>\n",
       "      <td>0</td>\n",
       "      <td>0</td>\n",
       "      <td>40</td>\n",
       "      <td>United-States</td>\n",
       "      <td>&lt;=50K</td>\n",
       "    </tr>\n",
       "    <tr>\n",
       "      <th>3</th>\n",
       "      <td>53</td>\n",
       "      <td>Private</td>\n",
       "      <td>11th</td>\n",
       "      <td>7</td>\n",
       "      <td>Married-civ-spouse</td>\n",
       "      <td>Handlers-cleaners</td>\n",
       "      <td>Husband</td>\n",
       "      <td>Black</td>\n",
       "      <td>Male</td>\n",
       "      <td>0</td>\n",
       "      <td>0</td>\n",
       "      <td>40</td>\n",
       "      <td>United-States</td>\n",
       "      <td>&lt;=50K</td>\n",
       "    </tr>\n",
       "    <tr>\n",
       "      <th>4</th>\n",
       "      <td>28</td>\n",
       "      <td>Private</td>\n",
       "      <td>Bachelors</td>\n",
       "      <td>13</td>\n",
       "      <td>Married-civ-spouse</td>\n",
       "      <td>Prof-specialty</td>\n",
       "      <td>Wife</td>\n",
       "      <td>Black</td>\n",
       "      <td>Female</td>\n",
       "      <td>0</td>\n",
       "      <td>0</td>\n",
       "      <td>40</td>\n",
       "      <td>Cuba</td>\n",
       "      <td>&lt;=50K</td>\n",
       "    </tr>\n",
       "  </tbody>\n",
       "</table>\n",
       "</div>"
      ],
      "text/plain": [
       "   age          workclass   education  education_num       marital_status  \\\n",
       "0   39          State-gov   Bachelors             13        Never-married   \n",
       "1   50   Self-emp-not-inc   Bachelors             13   Married-civ-spouse   \n",
       "2   38            Private     HS-grad              9             Divorced   \n",
       "3   53            Private        11th              7   Married-civ-spouse   \n",
       "4   28            Private   Bachelors             13   Married-civ-spouse   \n",
       "\n",
       "           occupation    relationship    race   gender  capital_gain  \\\n",
       "0        Adm-clerical   Not-in-family   White     Male          2174   \n",
       "1     Exec-managerial         Husband   White     Male             0   \n",
       "2   Handlers-cleaners   Not-in-family   White     Male             0   \n",
       "3   Handlers-cleaners         Husband   Black     Male             0   \n",
       "4      Prof-specialty            Wife   Black   Female             0   \n",
       "\n",
       "   capital_loss  hours_per_week  native_country income_bracket  \n",
       "0             0              40   United-States          <=50K  \n",
       "1             0              13   United-States          <=50K  \n",
       "2             0              40   United-States          <=50K  \n",
       "3             0              40   United-States          <=50K  \n",
       "4             0              40            Cuba          <=50K  "
      ]
     },
     "execution_count": 3,
     "metadata": {},
     "output_type": "execute_result"
    }
   ],
   "source": [
    "census.head()"
   ]
  },
  {
   "cell_type": "code",
   "execution_count": 4,
   "metadata": {},
   "outputs": [],
   "source": [
    "def to_zero_or_one(column):\n",
    "    if column == ' <=50K':\n",
    "        return 0\n",
    "    else:\n",
    "        return 1\n",
    "    "
   ]
  },
  {
   "cell_type": "code",
   "execution_count": 5,
   "metadata": {},
   "outputs": [],
   "source": [
    "census['income_bracket'] = census['income_bracket'].apply(to_zero_or_one)"
   ]
  },
  {
   "cell_type": "code",
   "execution_count": 6,
   "metadata": {
    "scrolled": true
   },
   "outputs": [
    {
     "data": {
      "text/html": [
       "<div>\n",
       "<style>\n",
       "    .dataframe thead tr:only-child th {\n",
       "        text-align: right;\n",
       "    }\n",
       "\n",
       "    .dataframe thead th {\n",
       "        text-align: left;\n",
       "    }\n",
       "\n",
       "    .dataframe tbody tr th {\n",
       "        vertical-align: top;\n",
       "    }\n",
       "</style>\n",
       "<table border=\"1\" class=\"dataframe\">\n",
       "  <thead>\n",
       "    <tr style=\"text-align: right;\">\n",
       "      <th></th>\n",
       "      <th>age</th>\n",
       "      <th>workclass</th>\n",
       "      <th>education</th>\n",
       "      <th>education_num</th>\n",
       "      <th>marital_status</th>\n",
       "      <th>occupation</th>\n",
       "      <th>relationship</th>\n",
       "      <th>race</th>\n",
       "      <th>gender</th>\n",
       "      <th>capital_gain</th>\n",
       "      <th>capital_loss</th>\n",
       "      <th>hours_per_week</th>\n",
       "      <th>native_country</th>\n",
       "      <th>income_bracket</th>\n",
       "    </tr>\n",
       "  </thead>\n",
       "  <tbody>\n",
       "    <tr>\n",
       "      <th>0</th>\n",
       "      <td>39</td>\n",
       "      <td>State-gov</td>\n",
       "      <td>Bachelors</td>\n",
       "      <td>13</td>\n",
       "      <td>Never-married</td>\n",
       "      <td>Adm-clerical</td>\n",
       "      <td>Not-in-family</td>\n",
       "      <td>White</td>\n",
       "      <td>Male</td>\n",
       "      <td>2174</td>\n",
       "      <td>0</td>\n",
       "      <td>40</td>\n",
       "      <td>United-States</td>\n",
       "      <td>0</td>\n",
       "    </tr>\n",
       "    <tr>\n",
       "      <th>1</th>\n",
       "      <td>50</td>\n",
       "      <td>Self-emp-not-inc</td>\n",
       "      <td>Bachelors</td>\n",
       "      <td>13</td>\n",
       "      <td>Married-civ-spouse</td>\n",
       "      <td>Exec-managerial</td>\n",
       "      <td>Husband</td>\n",
       "      <td>White</td>\n",
       "      <td>Male</td>\n",
       "      <td>0</td>\n",
       "      <td>0</td>\n",
       "      <td>13</td>\n",
       "      <td>United-States</td>\n",
       "      <td>0</td>\n",
       "    </tr>\n",
       "    <tr>\n",
       "      <th>2</th>\n",
       "      <td>38</td>\n",
       "      <td>Private</td>\n",
       "      <td>HS-grad</td>\n",
       "      <td>9</td>\n",
       "      <td>Divorced</td>\n",
       "      <td>Handlers-cleaners</td>\n",
       "      <td>Not-in-family</td>\n",
       "      <td>White</td>\n",
       "      <td>Male</td>\n",
       "      <td>0</td>\n",
       "      <td>0</td>\n",
       "      <td>40</td>\n",
       "      <td>United-States</td>\n",
       "      <td>0</td>\n",
       "    </tr>\n",
       "    <tr>\n",
       "      <th>3</th>\n",
       "      <td>53</td>\n",
       "      <td>Private</td>\n",
       "      <td>11th</td>\n",
       "      <td>7</td>\n",
       "      <td>Married-civ-spouse</td>\n",
       "      <td>Handlers-cleaners</td>\n",
       "      <td>Husband</td>\n",
       "      <td>Black</td>\n",
       "      <td>Male</td>\n",
       "      <td>0</td>\n",
       "      <td>0</td>\n",
       "      <td>40</td>\n",
       "      <td>United-States</td>\n",
       "      <td>0</td>\n",
       "    </tr>\n",
       "    <tr>\n",
       "      <th>4</th>\n",
       "      <td>28</td>\n",
       "      <td>Private</td>\n",
       "      <td>Bachelors</td>\n",
       "      <td>13</td>\n",
       "      <td>Married-civ-spouse</td>\n",
       "      <td>Prof-specialty</td>\n",
       "      <td>Wife</td>\n",
       "      <td>Black</td>\n",
       "      <td>Female</td>\n",
       "      <td>0</td>\n",
       "      <td>0</td>\n",
       "      <td>40</td>\n",
       "      <td>Cuba</td>\n",
       "      <td>0</td>\n",
       "    </tr>\n",
       "  </tbody>\n",
       "</table>\n",
       "</div>"
      ],
      "text/plain": [
       "   age          workclass   education  education_num       marital_status  \\\n",
       "0   39          State-gov   Bachelors             13        Never-married   \n",
       "1   50   Self-emp-not-inc   Bachelors             13   Married-civ-spouse   \n",
       "2   38            Private     HS-grad              9             Divorced   \n",
       "3   53            Private        11th              7   Married-civ-spouse   \n",
       "4   28            Private   Bachelors             13   Married-civ-spouse   \n",
       "\n",
       "           occupation    relationship    race   gender  capital_gain  \\\n",
       "0        Adm-clerical   Not-in-family   White     Male          2174   \n",
       "1     Exec-managerial         Husband   White     Male             0   \n",
       "2   Handlers-cleaners   Not-in-family   White     Male             0   \n",
       "3   Handlers-cleaners         Husband   Black     Male             0   \n",
       "4      Prof-specialty            Wife   Black   Female             0   \n",
       "\n",
       "   capital_loss  hours_per_week  native_country  income_bracket  \n",
       "0             0              40   United-States               0  \n",
       "1             0              13   United-States               0  \n",
       "2             0              40   United-States               0  \n",
       "3             0              40   United-States               0  \n",
       "4             0              40            Cuba               0  "
      ]
     },
     "execution_count": 6,
     "metadata": {},
     "output_type": "execute_result"
    }
   ],
   "source": [
    "census.head()"
   ]
  },
  {
   "cell_type": "code",
   "execution_count": 7,
   "metadata": {
    "collapsed": true
   },
   "outputs": [],
   "source": [
    "x_data = census.drop('income_bracket',axis=1)"
   ]
  },
  {
   "cell_type": "code",
   "execution_count": 8,
   "metadata": {
    "collapsed": true
   },
   "outputs": [],
   "source": [
    "y_data = census['income_bracket']"
   ]
  },
  {
   "cell_type": "code",
   "execution_count": 9,
   "metadata": {
    "collapsed": true
   },
   "outputs": [],
   "source": [
    " X_train, X_test, y_train, y_test = train_test_split(x_data, y_data, test_size=0.3)"
   ]
  },
  {
   "cell_type": "code",
   "execution_count": 10,
   "metadata": {},
   "outputs": [
    {
     "data": {
      "text/plain": [
       "Index(['age', 'workclass', 'education', 'education_num', 'marital_status',\n",
       "       'occupation', 'relationship', 'race', 'gender', 'capital_gain',\n",
       "       'capital_loss', 'hours_per_week', 'native_country', 'income_bracket'],\n",
       "      dtype='object')"
      ]
     },
     "execution_count": 10,
     "metadata": {},
     "output_type": "execute_result"
    }
   ],
   "source": [
    "census.columns"
   ]
  },
  {
   "cell_type": "code",
   "execution_count": 11,
   "metadata": {
    "collapsed": true
   },
   "outputs": [],
   "source": [
    "workclass = tf.feature_column.categorical_column_with_hash_bucket('workclass',hash_bucket_size=1000)\n",
    "education = tf.feature_column.categorical_column_with_hash_bucket('education',hash_bucket_size=1000)\n",
    "marital_status = tf.feature_column.categorical_column_with_hash_bucket('marital_status',hash_bucket_size=1000)\n",
    "occupation = tf.feature_column.categorical_column_with_hash_bucket('occupation',hash_bucket_size=1000)\n",
    "relationship = tf.feature_column.categorical_column_with_hash_bucket('relationship',hash_bucket_size=1000)\n",
    "race = tf.feature_column.categorical_column_with_hash_bucket('race',hash_bucket_size=1000)\n",
    "gender = tf.feature_column.categorical_column_with_hash_bucket('gender',hash_bucket_size=1000)\n",
    "native_country = tf.feature_column.categorical_column_with_hash_bucket('native_country',hash_bucket_size=1000)\n",
    "income_bracket = tf.feature_column.categorical_column_with_hash_bucket('income_bracket',hash_bucket_size=1000)"
   ]
  },
  {
   "cell_type": "code",
   "execution_count": 12,
   "metadata": {
    "collapsed": true
   },
   "outputs": [],
   "source": [
    "age = tf.feature_column.numeric_column('age')\n",
    "education_num = tf.feature_column.numeric_column('education_num')\n",
    "capital_gain = tf.feature_column.numeric_column('capital_gain')\n",
    "capital_loss = tf.feature_column.numeric_column('capital_loss')\n",
    "hours_per_week = tf.feature_column.numeric_column('hours_per_week')\n"
   ]
  },
  {
   "cell_type": "code",
   "execution_count": 13,
   "metadata": {
    "collapsed": true
   },
   "outputs": [],
   "source": [
    "feat_cols = [workclass,education,marital_status,occupation,relationship,race,gender,native_country,age,education_num,\n",
    "             capital_gain,capital_loss,hours_per_week] "
   ]
  },
  {
   "cell_type": "code",
   "execution_count": 14,
   "metadata": {
    "collapsed": true
   },
   "outputs": [],
   "source": [
    "input_func = tf.estimator.inputs.pandas_input_fn(X_train,y_train,batch_size=16,num_epochs=None,shuffle=True)"
   ]
  },
  {
   "cell_type": "markdown",
   "metadata": {},
   "source": [
    "## Model 1"
   ]
  },
  {
   "cell_type": "code",
   "execution_count": 15,
   "metadata": {},
   "outputs": [
    {
     "name": "stdout",
     "output_type": "stream",
     "text": [
      "INFO:tensorflow:Using default config.\n",
      "WARNING:tensorflow:Using temporary folder as model directory: C:\\Users\\nickj\\AppData\\Local\\Temp\\tmpzjaq6vfe\n",
      "INFO:tensorflow:Using config: {'_model_dir': 'C:\\\\Users\\\\nickj\\\\AppData\\\\Local\\\\Temp\\\\tmpzjaq6vfe', '_tf_random_seed': 1, '_save_summary_steps': 100, '_save_checkpoints_secs': 600, '_save_checkpoints_steps': None, '_session_config': None, '_keep_checkpoint_max': 5, '_keep_checkpoint_every_n_hours': 10000, '_log_step_count_steps': 100}\n"
     ]
    }
   ],
   "source": [
    "LC_model = tf.estimator.LinearClassifier(feat_cols,n_classes=2)"
   ]
  },
  {
   "cell_type": "code",
   "execution_count": 16,
   "metadata": {
    "scrolled": true
   },
   "outputs": [
    {
     "name": "stdout",
     "output_type": "stream",
     "text": [
      "INFO:tensorflow:Create CheckpointSaverHook.\n",
      "INFO:tensorflow:Saving checkpoints for 1 into C:\\Users\\nickj\\AppData\\Local\\Temp\\tmpzjaq6vfe\\model.ckpt.\n",
      "INFO:tensorflow:loss = 11.0904, step = 1\n",
      "INFO:tensorflow:global_step/sec: 316.616\n",
      "INFO:tensorflow:loss = 3.27534, step = 101 (0.319 sec)\n",
      "INFO:tensorflow:global_step/sec: 468.238\n",
      "INFO:tensorflow:loss = 16.818, step = 201 (0.214 sec)\n",
      "INFO:tensorflow:global_step/sec: 566.668\n",
      "INFO:tensorflow:loss = 304.359, step = 301 (0.176 sec)\n",
      "INFO:tensorflow:global_step/sec: 533.34\n",
      "INFO:tensorflow:loss = 6.78985, step = 401 (0.187 sec)\n",
      "INFO:tensorflow:global_step/sec: 554.079\n",
      "INFO:tensorflow:loss = 323.15, step = 501 (0.179 sec)\n",
      "INFO:tensorflow:global_step/sec: 544.994\n",
      "INFO:tensorflow:loss = 10.7967, step = 601 (0.183 sec)\n",
      "INFO:tensorflow:global_step/sec: 573.186\n",
      "INFO:tensorflow:loss = 7.39841, step = 701 (0.174 sec)\n",
      "INFO:tensorflow:global_step/sec: 530.488\n",
      "INFO:tensorflow:loss = 32.7954, step = 801 (0.192 sec)\n",
      "INFO:tensorflow:global_step/sec: 533.351\n",
      "INFO:tensorflow:loss = 4.05033, step = 901 (0.184 sec)\n",
      "INFO:tensorflow:global_step/sec: 544.996\n",
      "INFO:tensorflow:loss = 43.8663, step = 1001 (0.184 sec)\n",
      "INFO:tensorflow:global_step/sec: 527.693\n",
      "INFO:tensorflow:loss = 3.59973, step = 1101 (0.190 sec)\n",
      "INFO:tensorflow:global_step/sec: 519.43\n",
      "INFO:tensorflow:loss = 309.27, step = 1201 (0.193 sec)\n",
      "INFO:tensorflow:global_step/sec: 511.473\n",
      "INFO:tensorflow:loss = 11.8884, step = 1301 (0.196 sec)\n",
      "INFO:tensorflow:global_step/sec: 366.671\n",
      "INFO:tensorflow:loss = 5.89093, step = 1401 (0.274 sec)\n",
      "INFO:tensorflow:global_step/sec: 379.217\n",
      "INFO:tensorflow:loss = 3.46366, step = 1501 (0.263 sec)\n",
      "INFO:tensorflow:global_step/sec: 408.749\n",
      "INFO:tensorflow:loss = 9.06474, step = 1601 (0.245 sec)\n",
      "INFO:tensorflow:global_step/sec: 481.805\n",
      "INFO:tensorflow:loss = 13.0284, step = 1701 (0.210 sec)\n",
      "INFO:tensorflow:global_step/sec: 455.394\n",
      "INFO:tensorflow:loss = 5.31198, step = 1801 (0.216 sec)\n",
      "INFO:tensorflow:global_step/sec: 395.782\n",
      "INFO:tensorflow:loss = 2.84113, step = 1901 (0.256 sec)\n",
      "INFO:tensorflow:global_step/sec: 398.935\n",
      "INFO:tensorflow:loss = 35.782, step = 2001 (0.251 sec)\n",
      "INFO:tensorflow:global_step/sec: 413.837\n",
      "INFO:tensorflow:loss = 10.6066, step = 2101 (0.240 sec)\n",
      "INFO:tensorflow:global_step/sec: 439.357\n",
      "INFO:tensorflow:loss = 29.4954, step = 2201 (0.229 sec)\n",
      "INFO:tensorflow:global_step/sec: 379.216\n",
      "INFO:tensorflow:loss = 41.4689, step = 2301 (0.263 sec)\n",
      "INFO:tensorflow:global_step/sec: 453.34\n",
      "INFO:tensorflow:loss = 1.47634, step = 2401 (0.221 sec)\n",
      "INFO:tensorflow:global_step/sec: 569.909\n",
      "INFO:tensorflow:loss = 5.0734, step = 2501 (0.175 sec)\n",
      "INFO:tensorflow:global_step/sec: 522.167\n",
      "INFO:tensorflow:loss = 3.66609, step = 2601 (0.193 sec)\n",
      "INFO:tensorflow:global_step/sec: 573.187\n",
      "INFO:tensorflow:loss = 5.63778, step = 2701 (0.173 sec)\n",
      "INFO:tensorflow:global_step/sec: 544.994\n",
      "INFO:tensorflow:loss = 154.789, step = 2801 (0.183 sec)\n",
      "INFO:tensorflow:global_step/sec: 563.469\n",
      "INFO:tensorflow:loss = 9.51054, step = 2901 (0.178 sec)\n",
      "INFO:tensorflow:global_step/sec: 566.664\n",
      "INFO:tensorflow:loss = 3.75814, step = 3001 (0.178 sec)\n",
      "INFO:tensorflow:global_step/sec: 533.346\n",
      "INFO:tensorflow:loss = 8.18375, step = 3101 (0.186 sec)\n",
      "INFO:tensorflow:global_step/sec: 554.08\n",
      "INFO:tensorflow:loss = 6.89208, step = 3201 (0.180 sec)\n",
      "INFO:tensorflow:global_step/sec: 524.914\n",
      "INFO:tensorflow:loss = 9.56301, step = 3301 (0.191 sec)\n",
      "INFO:tensorflow:global_step/sec: 506.267\n",
      "INFO:tensorflow:loss = 9.18598, step = 3401 (0.198 sec)\n",
      "INFO:tensorflow:global_step/sec: 511.451\n",
      "INFO:tensorflow:loss = 2.47408, step = 3501 (0.195 sec)\n",
      "INFO:tensorflow:global_step/sec: 369.387\n",
      "INFO:tensorflow:loss = 5.75449, step = 3601 (0.270 sec)\n",
      "INFO:tensorflow:global_step/sec: 361.357\n",
      "INFO:tensorflow:loss = 4.65911, step = 3701 (0.280 sec)\n",
      "INFO:tensorflow:global_step/sec: 479.491\n",
      "INFO:tensorflow:loss = 27.3614, step = 3801 (0.211 sec)\n",
      "INFO:tensorflow:global_step/sec: 479.493\n",
      "INFO:tensorflow:loss = 8.91346, step = 3901 (0.207 sec)\n",
      "INFO:tensorflow:global_step/sec: 451.285\n",
      "INFO:tensorflow:loss = 6.45366, step = 4001 (0.220 sec)\n",
      "INFO:tensorflow:global_step/sec: 412.123\n",
      "INFO:tensorflow:loss = 13.4392, step = 4101 (0.243 sec)\n",
      "INFO:tensorflow:global_step/sec: 395.772\n",
      "INFO:tensorflow:loss = 1.45433, step = 4201 (0.254 sec)\n",
      "INFO:tensorflow:global_step/sec: 408.747\n",
      "INFO:tensorflow:loss = 6.25285, step = 4301 (0.244 sec)\n",
      "INFO:tensorflow:global_step/sec: 519.449\n",
      "INFO:tensorflow:loss = 8.92592, step = 4401 (0.194 sec)\n",
      "INFO:tensorflow:global_step/sec: 400.538\n",
      "INFO:tensorflow:loss = 4.71451, step = 4501 (0.251 sec)\n",
      "INFO:tensorflow:global_step/sec: 391.115\n",
      "INFO:tensorflow:loss = 2.25587, step = 4601 (0.255 sec)\n",
      "INFO:tensorflow:global_step/sec: 530.502\n",
      "INFO:tensorflow:loss = 13.2321, step = 4701 (0.189 sec)\n",
      "INFO:tensorflow:global_step/sec: 530.501\n",
      "INFO:tensorflow:loss = 10.1809, step = 4801 (0.187 sec)\n",
      "INFO:tensorflow:global_step/sec: 551.016\n",
      "INFO:tensorflow:loss = 29.1832, step = 4901 (0.181 sec)\n",
      "INFO:tensorflow:global_step/sec: 551.018\n",
      "INFO:tensorflow:loss = 7.39208, step = 5001 (0.182 sec)\n",
      "INFO:tensorflow:global_step/sec: 569.911\n",
      "INFO:tensorflow:loss = 4.13746, step = 5101 (0.175 sec)\n",
      "INFO:tensorflow:global_step/sec: 539.103\n",
      "INFO:tensorflow:loss = 27.1708, step = 5201 (0.185 sec)\n",
      "INFO:tensorflow:global_step/sec: 524.916\n",
      "INFO:tensorflow:loss = 5.69851, step = 5301 (0.191 sec)\n",
      "INFO:tensorflow:global_step/sec: 569.898\n",
      "INFO:tensorflow:loss = 1.36536, step = 5401 (0.174 sec)\n",
      "INFO:tensorflow:global_step/sec: 539.115\n",
      "INFO:tensorflow:loss = 12.9391, step = 5501 (0.186 sec)\n",
      "INFO:tensorflow:global_step/sec: 551.006\n",
      "INFO:tensorflow:loss = 11.8782, step = 5601 (0.183 sec)\n",
      "INFO:tensorflow:global_step/sec: 527.704\n",
      "INFO:tensorflow:loss = 3.01515, step = 5701 (0.187 sec)\n",
      "INFO:tensorflow:global_step/sec: 449.251\n",
      "INFO:tensorflow:loss = 68.2491, step = 5801 (0.224 sec)\n",
      "INFO:tensorflow:global_step/sec: 353.667\n",
      "INFO:tensorflow:loss = 1.95652, step = 5901 (0.281 sec)\n",
      "INFO:tensorflow:global_step/sec: 389.587\n",
      "INFO:tensorflow:loss = 8.52382, step = 6001 (0.258 sec)\n",
      "INFO:tensorflow:global_step/sec: 453.339\n",
      "INFO:tensorflow:loss = 13.3328, step = 6101 (0.221 sec)\n",
      "INFO:tensorflow:global_step/sec: 429.889\n",
      "INFO:tensorflow:loss = 2.49764, step = 6201 (0.231 sec)\n",
      "INFO:tensorflow:global_step/sec: 455.407\n",
      "INFO:tensorflow:loss = 6.64472, step = 6301 (0.223 sec)\n",
      "INFO:tensorflow:global_step/sec: 374.941\n",
      "INFO:tensorflow:loss = 9.95711, step = 6401 (0.265 sec)\n",
      "INFO:tensorflow:global_step/sec: 363.993\n",
      "INFO:tensorflow:loss = 6.93088, step = 6501 (0.276 sec)\n",
      "INFO:tensorflow:global_step/sec: 493.733\n",
      "INFO:tensorflow:loss = 2.85842, step = 6601 (0.207 sec)\n",
      "INFO:tensorflow:global_step/sec: 357.47\n",
      "INFO:tensorflow:loss = 7.87, step = 6701 (0.276 sec)\n",
      "INFO:tensorflow:global_step/sec: 354.925\n",
      "INFO:tensorflow:loss = 8.41144, step = 6801 (0.281 sec)\n",
      "INFO:tensorflow:global_step/sec: 459.606\n",
      "INFO:tensorflow:loss = 9.43317, step = 6901 (0.219 sec)\n",
      "INFO:tensorflow:global_step/sec: 484.147\n",
      "INFO:tensorflow:loss = 2.94833, step = 7001 (0.208 sec)\n",
      "INFO:tensorflow:global_step/sec: 486.507\n",
      "INFO:tensorflow:loss = 4.78031, step = 7101 (0.204 sec)\n",
      "INFO:tensorflow:global_step/sec: 547.991\n",
      "INFO:tensorflow:loss = 12.1938, step = 7201 (0.183 sec)\n",
      "INFO:tensorflow:global_step/sec: 569.908\n",
      "INFO:tensorflow:loss = 10.685, step = 7301 (0.175 sec)\n",
      "INFO:tensorflow:global_step/sec: 498.671\n",
      "INFO:tensorflow:loss = 4.97819, step = 7401 (0.201 sec)\n",
      "INFO:tensorflow:global_step/sec: 426.215\n",
      "INFO:tensorflow:loss = 6.29042, step = 7501 (0.235 sec)\n",
      "INFO:tensorflow:global_step/sec: 481.808\n",
      "INFO:tensorflow:loss = 5.65671, step = 7601 (0.208 sec)\n",
      "INFO:tensorflow:global_step/sec: 503.708\n",
      "INFO:tensorflow:loss = 3.46836, step = 7701 (0.199 sec)\n",
      "INFO:tensorflow:global_step/sec: 508.846\n",
      "INFO:tensorflow:loss = 5.24197, step = 7801 (0.197 sec)\n",
      "INFO:tensorflow:global_step/sec: 466.046\n",
      "INFO:tensorflow:loss = 6.38361, step = 7901 (0.215 sec)\n",
      "INFO:tensorflow:global_step/sec: 346.3\n",
      "INFO:tensorflow:loss = 22.4056, step = 8001 (0.291 sec)\n",
      "INFO:tensorflow:global_step/sec: 322.764\n",
      "INFO:tensorflow:loss = 4.71901, step = 8101 (0.308 sec)\n",
      "INFO:tensorflow:global_step/sec: 356.195\n",
      "INFO:tensorflow:loss = 192.285, step = 8201 (0.282 sec)\n",
      "INFO:tensorflow:global_step/sec: 426.215\n",
      "INFO:tensorflow:loss = 5.44499, step = 8301 (0.233 sec)\n"
     ]
    },
    {
     "name": "stdout",
     "output_type": "stream",
     "text": [
      "INFO:tensorflow:global_step/sec: 484.146\n",
      "INFO:tensorflow:loss = 3.66295, step = 8401 (0.206 sec)\n",
      "INFO:tensorflow:global_step/sec: 424.401\n",
      "INFO:tensorflow:loss = 9.57244, step = 8501 (0.239 sec)\n",
      "INFO:tensorflow:global_step/sec: 366.67\n",
      "INFO:tensorflow:loss = 6.6771, step = 8601 (0.274 sec)\n",
      "INFO:tensorflow:global_step/sec: 400.54\n",
      "INFO:tensorflow:loss = 8.86774, step = 8701 (0.248 sec)\n",
      "INFO:tensorflow:global_step/sec: 428.041\n",
      "INFO:tensorflow:loss = 12.1239, step = 8801 (0.233 sec)\n",
      "INFO:tensorflow:global_step/sec: 402.147\n",
      "INFO:tensorflow:loss = 5.6601, step = 8901 (0.251 sec)\n",
      "INFO:tensorflow:global_step/sec: 354.932\n",
      "INFO:tensorflow:loss = 3.37005, step = 9001 (0.280 sec)\n",
      "INFO:tensorflow:global_step/sec: 514.095\n",
      "INFO:tensorflow:loss = 12.5142, step = 9101 (0.196 sec)\n",
      "INFO:tensorflow:global_step/sec: 468.236\n",
      "INFO:tensorflow:loss = 32.702, step = 9201 (0.214 sec)\n",
      "INFO:tensorflow:global_step/sec: 519.45\n",
      "INFO:tensorflow:loss = 4.43969, step = 9301 (0.192 sec)\n",
      "INFO:tensorflow:global_step/sec: 530.5\n",
      "INFO:tensorflow:loss = 4.55959, step = 9401 (0.190 sec)\n",
      "INFO:tensorflow:global_step/sec: 503.707\n",
      "INFO:tensorflow:loss = 195.211, step = 9501 (0.199 sec)\n",
      "INFO:tensorflow:global_step/sec: 472.675\n",
      "INFO:tensorflow:loss = 2.04546, step = 9601 (0.212 sec)\n",
      "INFO:tensorflow:global_step/sec: 514.094\n",
      "INFO:tensorflow:loss = 1.98314, step = 9701 (0.195 sec)\n",
      "INFO:tensorflow:global_step/sec: 533.337\n",
      "INFO:tensorflow:loss = 6.95714, step = 9801 (0.190 sec)\n",
      "INFO:tensorflow:global_step/sec: 524.914\n",
      "INFO:tensorflow:loss = 5.47138, step = 9901 (0.189 sec)\n",
      "INFO:tensorflow:Saving checkpoints for 10000 into C:\\Users\\nickj\\AppData\\Local\\Temp\\tmpzjaq6vfe\\model.ckpt.\n",
      "INFO:tensorflow:Loss for final step: 2.08253.\n"
     ]
    },
    {
     "data": {
      "text/plain": [
       "<tensorflow.python.estimator.canned.linear.LinearClassifier at 0x273421f6da0>"
      ]
     },
     "execution_count": 16,
     "metadata": {},
     "output_type": "execute_result"
    }
   ],
   "source": [
    "LC_model.train(input_fn=input_func,steps=10000)"
   ]
  },
  {
   "cell_type": "markdown",
   "metadata": {},
   "source": [
    "## Model 2"
   ]
  },
  {
   "cell_type": "code",
   "execution_count": 17,
   "metadata": {
    "collapsed": true
   },
   "outputs": [],
   "source": [
    "embedded_workclass = tf.feature_column.embedding_column(workclass,dimension=1000)\n",
    "embedded_education = tf.feature_column.embedding_column(education,dimension=1000)\n",
    "embedded_marital_status = tf.feature_column.embedding_column(marital_status,dimension=1000)\n",
    "embedded_occupation = tf.feature_column.embedding_column(occupation,dimension=1000)\n",
    "embedded_relationship = tf.feature_column.embedding_column(relationship,dimension=1000)\n",
    "embedded_race = tf.feature_column.embedding_column(race,dimension=1000)\n",
    "embedded_gender = tf.feature_column.embedding_column(gender,dimension=1000)\n",
    "embedded_native_country = tf.feature_column.embedding_column(native_country,dimension=1000)\n",
    "embedded_income_bracket = tf.feature_column.embedding_column(income_bracket,dimension=1000)"
   ]
  },
  {
   "cell_type": "code",
   "execution_count": 18,
   "metadata": {
    "collapsed": true
   },
   "outputs": [],
   "source": [
    "feat_cols_dnn = [embedded_workclass,embedded_education,embedded_marital_status,embedded_occupation,embedded_relationship,\n",
    "                 embedded_race,embedded_gender,embedded_native_country,age,education_num,\n",
    "             capital_gain,capital_loss,hours_per_week] "
   ]
  },
  {
   "cell_type": "code",
   "execution_count": 19,
   "metadata": {
    "scrolled": true
   },
   "outputs": [
    {
     "name": "stdout",
     "output_type": "stream",
     "text": [
      "INFO:tensorflow:Using default config.\n",
      "WARNING:tensorflow:Using temporary folder as model directory: C:\\Users\\nickj\\AppData\\Local\\Temp\\tmpph2wg9pq\n",
      "INFO:tensorflow:Using config: {'_model_dir': 'C:\\\\Users\\\\nickj\\\\AppData\\\\Local\\\\Temp\\\\tmpph2wg9pq', '_tf_random_seed': 1, '_save_summary_steps': 100, '_save_checkpoints_secs': 600, '_save_checkpoints_steps': None, '_session_config': None, '_keep_checkpoint_max': 5, '_keep_checkpoint_every_n_hours': 10000, '_log_step_count_steps': 100}\n"
     ]
    }
   ],
   "source": [
    "DNN_model = tf.estimator.DNNClassifier([10,10,10],feat_cols_dnn,n_classes=2)"
   ]
  },
  {
   "cell_type": "code",
   "execution_count": 20,
   "metadata": {
    "scrolled": true
   },
   "outputs": [
    {
     "name": "stdout",
     "output_type": "stream",
     "text": [
      "INFO:tensorflow:Create CheckpointSaverHook.\n",
      "INFO:tensorflow:Saving checkpoints for 1 into C:\\Users\\nickj\\AppData\\Local\\Temp\\tmpph2wg9pq\\model.ckpt.\n",
      "INFO:tensorflow:loss = 9.08961, step = 1\n",
      "INFO:tensorflow:global_step/sec: 284.955\n",
      "INFO:tensorflow:loss = 5.23682, step = 101 (0.351 sec)\n",
      "INFO:tensorflow:global_step/sec: 347.505\n",
      "INFO:tensorflow:loss = 8.54874, step = 201 (0.289 sec)\n",
      "INFO:tensorflow:global_step/sec: 358.756\n",
      "INFO:tensorflow:loss = 10.1845, step = 301 (0.278 sec)\n",
      "INFO:tensorflow:global_step/sec: 361.357\n",
      "INFO:tensorflow:loss = 7.76892, step = 401 (0.278 sec)\n",
      "INFO:tensorflow:global_step/sec: 328.073\n",
      "INFO:tensorflow:loss = 4.95863, step = 501 (0.305 sec)\n",
      "INFO:tensorflow:global_step/sec: 291.62\n",
      "INFO:tensorflow:loss = 6.25512, step = 601 (0.343 sec)\n",
      "INFO:tensorflow:global_step/sec: 302.225\n",
      "INFO:tensorflow:loss = 7.65273, step = 701 (0.331 sec)\n",
      "INFO:tensorflow:global_step/sec: 310.699\n",
      "INFO:tensorflow:loss = 6.72161, step = 801 (0.321 sec)\n",
      "INFO:tensorflow:global_step/sec: 361.355\n",
      "INFO:tensorflow:loss = 6.04224, step = 901 (0.277 sec)\n",
      "INFO:tensorflow:global_step/sec: 307.822\n",
      "INFO:tensorflow:loss = 6.0961, step = 1001 (0.326 sec)\n",
      "INFO:tensorflow:global_step/sec: 310.698\n",
      "INFO:tensorflow:loss = 10.3351, step = 1101 (0.321 sec)\n",
      "INFO:tensorflow:global_step/sec: 295.072\n",
      "INFO:tensorflow:loss = 8.36162, step = 1201 (0.340 sec)\n",
      "INFO:tensorflow:global_step/sec: 322.765\n",
      "INFO:tensorflow:loss = 2.98811, step = 1301 (0.309 sec)\n",
      "INFO:tensorflow:global_step/sec: 368.015\n",
      "INFO:tensorflow:loss = 8.04884, step = 1401 (0.272 sec)\n",
      "INFO:tensorflow:global_step/sec: 353.675\n",
      "INFO:tensorflow:loss = 6.16726, step = 1501 (0.283 sec)\n",
      "INFO:tensorflow:global_step/sec: 363.993\n",
      "INFO:tensorflow:loss = 5.03684, step = 1601 (0.276 sec)\n",
      "INFO:tensorflow:global_step/sec: 363.993\n",
      "INFO:tensorflow:loss = 5.67554, step = 1701 (0.274 sec)\n",
      "INFO:tensorflow:global_step/sec: 369.387\n",
      "INFO:tensorflow:loss = 5.75251, step = 1801 (0.272 sec)\n",
      "INFO:tensorflow:global_step/sec: 368.022\n",
      "INFO:tensorflow:loss = 7.57511, step = 1901 (0.271 sec)\n",
      "INFO:tensorflow:global_step/sec: 349.945\n",
      "INFO:tensorflow:loss = 4.62564, step = 2001 (0.287 sec)\n",
      "INFO:tensorflow:global_step/sec: 360.051\n",
      "INFO:tensorflow:loss = 4.30537, step = 2101 (0.278 sec)\n",
      "INFO:tensorflow:global_step/sec: 365.327\n",
      "INFO:tensorflow:loss = 6.23254, step = 2201 (0.273 sec)\n",
      "INFO:tensorflow:global_step/sec: 357.47\n",
      "INFO:tensorflow:loss = 4.72838, step = 2301 (0.280 sec)\n",
      "INFO:tensorflow:global_step/sec: 348.72\n",
      "INFO:tensorflow:loss = 7.31643, step = 2401 (0.288 sec)\n",
      "INFO:tensorflow:global_step/sec: 354.926\n",
      "INFO:tensorflow:loss = 7.76637, step = 2501 (0.281 sec)\n",
      "INFO:tensorflow:global_step/sec: 308.774\n",
      "INFO:tensorflow:loss = 5.52331, step = 2601 (0.326 sec)\n",
      "INFO:tensorflow:global_step/sec: 300.405\n",
      "INFO:tensorflow:loss = 5.57567, step = 2701 (0.332 sec)\n",
      "INFO:tensorflow:global_step/sec: 294.2\n",
      "INFO:tensorflow:loss = 2.46424, step = 2801 (0.340 sec)\n",
      "INFO:tensorflow:global_step/sec: 311.67\n",
      "INFO:tensorflow:loss = 2.58999, step = 2901 (0.321 sec)\n",
      "INFO:tensorflow:global_step/sec: 330.245\n",
      "INFO:tensorflow:loss = 10.2306, step = 3001 (0.304 sec)\n",
      "INFO:tensorflow:global_step/sec: 324.867\n",
      "INFO:tensorflow:loss = 6.95513, step = 3101 (0.307 sec)\n",
      "INFO:tensorflow:global_step/sec: 351.177\n",
      "INFO:tensorflow:loss = 7.54043, step = 3201 (0.284 sec)\n",
      "INFO:tensorflow:global_step/sec: 357.47\n",
      "INFO:tensorflow:loss = 3.18706, step = 3301 (0.281 sec)\n",
      "INFO:tensorflow:global_step/sec: 356.192\n",
      "INFO:tensorflow:loss = 4.09446, step = 3401 (0.281 sec)\n",
      "INFO:tensorflow:global_step/sec: 363.995\n",
      "INFO:tensorflow:loss = 7.04746, step = 3501 (0.275 sec)\n",
      "INFO:tensorflow:global_step/sec: 300.404\n",
      "INFO:tensorflow:loss = 9.6544, step = 3601 (0.333 sec)\n",
      "INFO:tensorflow:global_step/sec: 305.933\n",
      "INFO:tensorflow:loss = 5.13298, step = 3701 (0.329 sec)\n",
      "INFO:tensorflow:global_step/sec: 304.998\n",
      "INFO:tensorflow:loss = 6.24151, step = 3801 (0.326 sec)\n",
      "INFO:tensorflow:global_step/sec: 316.617\n",
      "INFO:tensorflow:loss = 5.31724, step = 3901 (0.315 sec)\n",
      "INFO:tensorflow:global_step/sec: 348.721\n",
      "INFO:tensorflow:loss = 6.57354, step = 4001 (0.288 sec)\n",
      "INFO:tensorflow:global_step/sec: 312.645\n",
      "INFO:tensorflow:loss = 4.43208, step = 4101 (0.319 sec)\n",
      "INFO:tensorflow:global_step/sec: 312.647\n",
      "INFO:tensorflow:loss = 8.98092, step = 4201 (0.322 sec)\n",
      "INFO:tensorflow:global_step/sec: 298.605\n",
      "INFO:tensorflow:loss = 4.03217, step = 4301 (0.333 sec)\n",
      "INFO:tensorflow:global_step/sec: 360.053\n",
      "INFO:tensorflow:loss = 6.43129, step = 4401 (0.278 sec)\n",
      "INFO:tensorflow:global_step/sec: 365.326\n",
      "INFO:tensorflow:loss = 5.92399, step = 4501 (0.278 sec)\n",
      "INFO:tensorflow:global_step/sec: 346.3\n",
      "INFO:tensorflow:loss = 3.63477, step = 4601 (0.286 sec)\n",
      "INFO:tensorflow:global_step/sec: 351.176\n",
      "INFO:tensorflow:loss = 8.00426, step = 4701 (0.284 sec)\n",
      "INFO:tensorflow:global_step/sec: 358.756\n",
      "INFO:tensorflow:loss = 4.9609, step = 4801 (0.279 sec)\n",
      "INFO:tensorflow:global_step/sec: 368.024\n",
      "INFO:tensorflow:loss = 12.7628, step = 4901 (0.273 sec)\n",
      "INFO:tensorflow:global_step/sec: 366.669\n",
      "INFO:tensorflow:loss = 6.81229, step = 5001 (0.273 sec)\n",
      "INFO:tensorflow:global_step/sec: 347.506\n",
      "INFO:tensorflow:loss = 4.79266, step = 5101 (0.288 sec)\n",
      "INFO:tensorflow:global_step/sec: 362.671\n",
      "INFO:tensorflow:loss = 4.20075, step = 5201 (0.275 sec)\n",
      "INFO:tensorflow:global_step/sec: 353.666\n",
      "INFO:tensorflow:loss = 4.39814, step = 5301 (0.286 sec)\n",
      "INFO:tensorflow:global_step/sec: 358.757\n",
      "INFO:tensorflow:loss = 5.39404, step = 5401 (0.276 sec)\n",
      "INFO:tensorflow:global_step/sec: 347.506\n",
      "INFO:tensorflow:loss = 1.31289, step = 5501 (0.288 sec)\n",
      "INFO:tensorflow:global_step/sec: 338.078\n",
      "INFO:tensorflow:loss = 4.60291, step = 5601 (0.297 sec)\n",
      "INFO:tensorflow:global_step/sec: 300.407\n",
      "INFO:tensorflow:loss = 7.36696, step = 5701 (0.333 sec)\n",
      "INFO:tensorflow:global_step/sec: 292.476\n",
      "INFO:tensorflow:loss = 4.38714, step = 5801 (0.342 sec)\n",
      "INFO:tensorflow:global_step/sec: 297.714\n",
      "INFO:tensorflow:loss = 6.69841, step = 5901 (0.336 sec)\n",
      "INFO:tensorflow:global_step/sec: 326.998\n",
      "INFO:tensorflow:loss = 3.07641, step = 6001 (0.305 sec)\n",
      "INFO:tensorflow:global_step/sec: 328.072\n",
      "INFO:tensorflow:loss = 4.08589, step = 6101 (0.307 sec)\n",
      "INFO:tensorflow:global_step/sec: 333.56\n",
      "INFO:tensorflow:loss = 7.51748, step = 6201 (0.298 sec)\n",
      "INFO:tensorflow:global_step/sec: 349.946\n",
      "INFO:tensorflow:loss = 7.20825, step = 6301 (0.286 sec)\n",
      "INFO:tensorflow:global_step/sec: 356.193\n",
      "INFO:tensorflow:loss = 5.21781, step = 6401 (0.281 sec)\n",
      "INFO:tensorflow:global_step/sec: 362.67\n",
      "INFO:tensorflow:loss = 8.04737, step = 6501 (0.277 sec)\n",
      "INFO:tensorflow:global_step/sec: 324.867\n",
      "INFO:tensorflow:loss = 4.82929, step = 6601 (0.307 sec)\n",
      "INFO:tensorflow:global_step/sec: 304.998\n",
      "INFO:tensorflow:loss = 4.2532, step = 6701 (0.329 sec)\n",
      "INFO:tensorflow:global_step/sec: 302.225\n",
      "INFO:tensorflow:loss = 3.30598, step = 6801 (0.331 sec)\n",
      "INFO:tensorflow:global_step/sec: 292.476\n",
      "INFO:tensorflow:loss = 5.29558, step = 6901 (0.342 sec)\n",
      "INFO:tensorflow:global_step/sec: 368.022\n",
      "INFO:tensorflow:loss = 5.02945, step = 7001 (0.272 sec)\n",
      "INFO:tensorflow:global_step/sec: 318.639\n",
      "INFO:tensorflow:loss = 6.00285, step = 7101 (0.314 sec)\n",
      "INFO:tensorflow:global_step/sec: 311.67\n",
      "INFO:tensorflow:loss = 4.4908, step = 7201 (0.320 sec)\n",
      "INFO:tensorflow:global_step/sec: 306.874\n",
      "INFO:tensorflow:loss = 5.09395, step = 7301 (0.326 sec)\n",
      "INFO:tensorflow:global_step/sec: 314.62\n",
      "INFO:tensorflow:loss = 3.60369, step = 7401 (0.318 sec)\n",
      "INFO:tensorflow:global_step/sec: 372.143\n",
      "INFO:tensorflow:loss = 3.934, step = 7501 (0.269 sec)\n",
      "INFO:tensorflow:global_step/sec: 349.944\n",
      "INFO:tensorflow:loss = 4.4498, step = 7601 (0.287 sec)\n",
      "INFO:tensorflow:global_step/sec: 357.47\n",
      "INFO:tensorflow:loss = 2.67179, step = 7701 (0.279 sec)\n",
      "INFO:tensorflow:global_step/sec: 363.993\n",
      "INFO:tensorflow:loss = 4.62248, step = 7801 (0.276 sec)\n",
      "INFO:tensorflow:global_step/sec: 357.469\n",
      "INFO:tensorflow:loss = 6.23783, step = 7901 (0.279 sec)\n",
      "INFO:tensorflow:global_step/sec: 357.472\n",
      "INFO:tensorflow:loss = 6.16895, step = 8001 (0.281 sec)\n",
      "INFO:tensorflow:global_step/sec: 351.177\n",
      "INFO:tensorflow:loss = 6.25882, step = 8101 (0.287 sec)\n",
      "INFO:tensorflow:global_step/sec: 353.667\n",
      "INFO:tensorflow:loss = 1.77722, step = 8201 (0.280 sec)\n",
      "INFO:tensorflow:global_step/sec: 369.386\n",
      "INFO:tensorflow:loss = 7.31501, step = 8301 (0.272 sec)\n"
     ]
    },
    {
     "name": "stdout",
     "output_type": "stream",
     "text": [
      "INFO:tensorflow:global_step/sec: 351.176\n",
      "INFO:tensorflow:loss = 10.9709, step = 8401 (0.285 sec)\n",
      "INFO:tensorflow:global_step/sec: 360.051\n",
      "INFO:tensorflow:loss = 5.94685, step = 8501 (0.278 sec)\n",
      "INFO:tensorflow:global_step/sec: 351.176\n",
      "INFO:tensorflow:loss = 7.46901, step = 8601 (0.284 sec)\n",
      "INFO:tensorflow:global_step/sec: 328.073\n",
      "INFO:tensorflow:loss = 8.22701, step = 8701 (0.306 sec)\n",
      "INFO:tensorflow:global_step/sec: 295.072\n",
      "INFO:tensorflow:loss = 5.08359, step = 8801 (0.339 sec)\n",
      "INFO:tensorflow:global_step/sec: 298.604\n",
      "INFO:tensorflow:loss = 6.33517, step = 8901 (0.335 sec)\n",
      "INFO:tensorflow:global_step/sec: 308.774\n",
      "INFO:tensorflow:loss = 2.05091, step = 9001 (0.324 sec)\n",
      "INFO:tensorflow:global_step/sec: 342.732\n",
      "INFO:tensorflow:loss = 3.7657, step = 9101 (0.292 sec)\n",
      "INFO:tensorflow:global_step/sec: 312.647\n",
      "INFO:tensorflow:loss = 11.6147, step = 9201 (0.320 sec)\n",
      "INFO:tensorflow:global_step/sec: 370.759\n",
      "INFO:tensorflow:loss = 5.19351, step = 9301 (0.269 sec)\n",
      "INFO:tensorflow:global_step/sec: 360.05\n",
      "INFO:tensorflow:loss = 5.77506, step = 9401 (0.278 sec)\n",
      "INFO:tensorflow:global_step/sec: 362.671\n",
      "INFO:tensorflow:loss = 3.77941, step = 9501 (0.276 sec)\n",
      "INFO:tensorflow:global_step/sec: 353.667\n",
      "INFO:tensorflow:loss = 3.3504, step = 9601 (0.283 sec)\n",
      "INFO:tensorflow:global_step/sec: 320.689\n",
      "INFO:tensorflow:loss = 5.42464, step = 9701 (0.312 sec)\n",
      "INFO:tensorflow:global_step/sec: 304.068\n",
      "INFO:tensorflow:loss = 5.94958, step = 9801 (0.330 sec)\n",
      "INFO:tensorflow:global_step/sec: 299.502\n",
      "INFO:tensorflow:loss = 5.03911, step = 9901 (0.336 sec)\n",
      "INFO:tensorflow:Saving checkpoints for 10000 into C:\\Users\\nickj\\AppData\\Local\\Temp\\tmpph2wg9pq\\model.ckpt.\n",
      "INFO:tensorflow:Loss for final step: 4.9633.\n"
     ]
    },
    {
     "data": {
      "text/plain": [
       "<tensorflow.python.estimator.canned.dnn.DNNClassifier at 0x273421f6e80>"
      ]
     },
     "execution_count": 20,
     "metadata": {},
     "output_type": "execute_result"
    }
   ],
   "source": [
    "DNN_model.train(input_fn=input_func,steps=10000)"
   ]
  },
  {
   "cell_type": "code",
   "execution_count": 21,
   "metadata": {},
   "outputs": [],
   "source": [
    "pred_fn = tf.estimator.inputs.pandas_input_fn(x=X_test,\n",
    "                                                      batch_size=len(X_test),\n",
    "                                                     shuffle=False)"
   ]
  },
  {
   "cell_type": "code",
   "execution_count": 22,
   "metadata": {},
   "outputs": [],
   "source": [
    "pred_gen = LC_model.predict(pred_fn)"
   ]
  },
  {
   "cell_type": "code",
   "execution_count": 23,
   "metadata": {},
   "outputs": [
    {
     "name": "stdout",
     "output_type": "stream",
     "text": [
      "INFO:tensorflow:Restoring parameters from C:\\Users\\nickj\\AppData\\Local\\Temp\\tmpzjaq6vfe\\model.ckpt-10000\n"
     ]
    }
   ],
   "source": [
    "LC_predictions = list(pred_gen)"
   ]
  },
  {
   "cell_type": "code",
   "execution_count": 24,
   "metadata": {},
   "outputs": [],
   "source": [
    "LC_final_preds = [pred['class_ids'][0] for pred in LC_predictions]"
   ]
  },
  {
   "cell_type": "code",
   "execution_count": 25,
   "metadata": {
    "collapsed": true
   },
   "outputs": [],
   "source": [
    "pred_gen = DNN_model.predict(pred_fn)"
   ]
  },
  {
   "cell_type": "code",
   "execution_count": 26,
   "metadata": {},
   "outputs": [
    {
     "name": "stdout",
     "output_type": "stream",
     "text": [
      "INFO:tensorflow:Restoring parameters from C:\\Users\\nickj\\AppData\\Local\\Temp\\tmpph2wg9pq\\model.ckpt-10000\n"
     ]
    }
   ],
   "source": [
    "DNN_predictions = list(pred_gen)"
   ]
  },
  {
   "cell_type": "code",
   "execution_count": 27,
   "metadata": {
    "collapsed": true
   },
   "outputs": [],
   "source": [
    "DNN_final_preds = [pred['class_ids'][0] for pred in DNN_predictions]"
   ]
  },
  {
   "cell_type": "markdown",
   "metadata": {},
   "source": [
    "# Results"
   ]
  },
  {
   "cell_type": "markdown",
   "metadata": {},
   "source": [
    "### Model 1"
   ]
  },
  {
   "cell_type": "code",
   "execution_count": 28,
   "metadata": {},
   "outputs": [
    {
     "name": "stdout",
     "output_type": "stream",
     "text": [
      "             precision    recall  f1-score   support\n",
      "\n",
      "          0       0.90      0.91      0.90      7406\n",
      "          1       0.70      0.68      0.69      2363\n",
      "\n",
      "avg / total       0.85      0.85      0.85      9769\n",
      "\n"
     ]
    }
   ],
   "source": [
    "print(classification_report(y_test,LC_final_preds))"
   ]
  },
  {
   "cell_type": "markdown",
   "metadata": {},
   "source": [
    "### Model 2"
   ]
  },
  {
   "cell_type": "code",
   "execution_count": 29,
   "metadata": {},
   "outputs": [
    {
     "name": "stdout",
     "output_type": "stream",
     "text": [
      "             precision    recall  f1-score   support\n",
      "\n",
      "          0       0.88      0.94      0.91      7406\n",
      "          1       0.76      0.58      0.66      2363\n",
      "\n",
      "avg / total       0.85      0.85      0.85      9769\n",
      "\n"
     ]
    }
   ],
   "source": [
    "print(classification_report(y_test,DNN_final_preds))"
   ]
  }
 ],
 "metadata": {
  "kernelspec": {
   "display_name": "Python 3",
   "language": "python",
   "name": "python3"
  },
  "language_info": {
   "codemirror_mode": {
    "name": "ipython",
    "version": 3
   },
   "file_extension": ".py",
   "mimetype": "text/x-python",
   "name": "python",
   "nbconvert_exporter": "python",
   "pygments_lexer": "ipython3",
   "version": "3.6.1"
  }
 },
 "nbformat": 4,
 "nbformat_minor": 2
}
